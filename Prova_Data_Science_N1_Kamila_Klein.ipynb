{
  "cells": [
    {
      "cell_type": "markdown",
      "metadata": {
        "id": "view-in-github",
        "colab_type": "text"
      },
      "source": [
        "<a href=\"https://colab.research.google.com/github/kamilaklein/Gerenciador/blob/main/Prova_Data_Science_N1_Kamila_Klein.ipynb\" target=\"_parent\"><img src=\"https://colab.research.google.com/assets/colab-badge.svg\" alt=\"Open In Colab\"/></a>"
      ]
    },
    {
      "cell_type": "markdown",
      "source": [
        "# Prova Data Science N1\n",
        "\n",
        "## <font color='red'>Importante: a prova é individual.</font>\n",
        "\n",
        "**Instruções:**\n",
        "\n",
        "1. Faça download deste notebook e carregue o mesmo na sua conta do Google Colab.\n",
        "2. Responda às questões propostas.\n",
        "3. Crie um repositório para o notebook, \"commite\" o notebook neste repositório.\n",
        "4. Na tarefa de avaliação do Teams, envie o link do repositório. Arquivos enviados diretamente no Teams não serão considerados.\n",
        "5. Commits no repositório após a data de entrega (combinada em sala de aula) serão desconsiderados."
      ],
      "metadata": {
        "id": "4glhaFlgmJJh"
      },
      "id": "4glhaFlgmJJh"
    },
    {
      "cell_type": "markdown",
      "source": [
        "# Objeto da avaliação\n",
        "\n",
        "Você irá fazer o download do arquivo de dados matches.csv do [repositório do Github](https://raw.githubusercontent.com/mdietterle/repositorio_dados/main/matches.csv)\n",
        "\n",
        "Todas as questões/atividades serão realizadas com base neste arquivo. É importante que você responda aos questionamentos propostos o mais completo possível, com a maior quantidade de detalhes que você conseguir incluir.\n",
        "\n",
        "Não se contente com o básico, seja criativo nas respostas, indo além do tradicional.\n",
        "\n",
        "## **Importante!!**\n",
        "\n",
        "Antes de começar a responder, abra o arquivo de dados e entenda o dataset. Não será fornecido um dicionário de dados, é sua tarefa analisar o dataset e \"inferir\" o que são as colunas e a sua organização."
      ],
      "metadata": {
        "id": "vzAsBKnPys5Y"
      },
      "id": "vzAsBKnPys5Y"
    },
    {
      "cell_type": "markdown",
      "source": [
        "## Instalação de bibliotecas necessárias\n",
        "\n",
        "Instale neste local todas as bibliotecas necessárias para resolução da avaliação."
      ],
      "metadata": {
        "id": "MdNqwBRABn08"
      },
      "id": "MdNqwBRABn08"
    },
    {
      "cell_type": "code",
      "source": [
        "# Instalação de bibliotecas básicas"
      ],
      "metadata": {
        "id": "IIpaALUHy5I8"
      },
      "id": "IIpaALUHy5I8",
      "execution_count": null,
      "outputs": []
    },
    {
      "cell_type": "markdown",
      "source": [
        "## Estatísticas básicas do dataset\n",
        "\n",
        "\n",
        "Carregue o arquivo de dados no notebook e exiba as características básicas do arquivo (shape, tipo de dados, dados ausentes, estatísticas básicas dos dados, etc)"
      ],
      "metadata": {
        "id": "Ls1X_rucBXzW"
      },
      "id": "Ls1X_rucBXzW"
    },
    {
      "cell_type": "code",
      "execution_count": null,
      "id": "eb6e51a1-8178-42df-b858-ef1e7d076377",
      "metadata": {
        "editable": false,
        "tags": [],
        "id": "eb6e51a1-8178-42df-b858-ef1e7d076377"
      },
      "outputs": [],
      "source": [
        "# Responda aqui a primeira etapa"
      ]
    },
    {
      "cell_type": "markdown",
      "source": [
        "## Dia da semana com placares mais altos\n",
        "\n",
        "Crie um gráfico que responda em qual dia da semana os placares foram mais altos. O conceito de \"placar mais alto\" é a soma dos gols feitos no jogo.\n",
        "\n",
        "Como a quantidade de jogos não é a mesma em todos os dias da semana (finais de semana tendem a ter mais jogos que em dias da semana - o que resultaria em placares mais altos nestes dias), você deverá encontrar uma forma de equalizar esta diferença na quantidade de jogos.\n",
        "\n",
        "A resposta deverá ser um gráfico que demonstre claramente o comparativo dos dias."
      ],
      "metadata": {
        "id": "Jt0B8pj9z0bp"
      },
      "id": "Jt0B8pj9z0bp"
    },
    {
      "cell_type": "code",
      "execution_count": null,
      "id": "1f5ed67c-45f5-43f4-b7f0-31bca0aa6579",
      "metadata": {
        "editable": true,
        "tags": [],
        "id": "1f5ed67c-45f5-43f4-b7f0-31bca0aa6579"
      },
      "outputs": [],
      "source": [
        "# Responda aqui a etapa"
      ]
    },
    {
      "cell_type": "markdown",
      "source": [
        "## Capitães\n",
        "\n",
        "Quantos capitães diferentes cada equipe teve durante a temporada?\n",
        "\n",
        "Responda em forma de um gráfico comparativo, apresentando os dados o mais claramente possível."
      ],
      "metadata": {
        "id": "6QES0KN752x2"
      },
      "id": "6QES0KN752x2"
    },
    {
      "cell_type": "code",
      "source": [
        "# Responda a etapa aqui"
      ],
      "metadata": {
        "id": "jaNf3AN1-fVm"
      },
      "id": "jaNf3AN1-fVm",
      "execution_count": null,
      "outputs": []
    },
    {
      "cell_type": "markdown",
      "source": [
        "## Formação Tática\n",
        "\n",
        "Qual a formação tática mais comum para cada equipe de acordo com o resultado obtido (Ex: para vitórias, a formação mais comum é X, para empates Y e para Z em derrotas).\n",
        "\n",
        "**Importante** responda de forma que seja possível fazer comparativos entre equipes.\n",
        "\n",
        "Responda com um gráfico."
      ],
      "metadata": {
        "id": "7HVSnlK6-iDd"
      },
      "id": "7HVSnlK6-iDd"
    },
    {
      "cell_type": "code",
      "source": [
        "# Responda a etapa aqui"
      ],
      "metadata": {
        "id": "v0jNd2oP-om1"
      },
      "id": "v0jNd2oP-om1",
      "execution_count": null,
      "outputs": []
    },
    {
      "cell_type": "markdown",
      "source": [
        "## Posse de bola\n",
        "\n",
        "Qual a média de posse de bola da equipe mandante quando ela perdeu o jogo?\n",
        "\n",
        "Responda em forma de gráfico para poder comparar entre todas as equipes."
      ],
      "metadata": {
        "id": "VdLnYjeh-v5S"
      },
      "id": "VdLnYjeh-v5S"
    },
    {
      "cell_type": "code",
      "source": [
        "# Responda aqui a etapa"
      ],
      "metadata": {
        "id": "KQssuIU4AGsH"
      },
      "id": "KQssuIU4AGsH",
      "execution_count": null,
      "outputs": []
    },
    {
      "cell_type": "markdown",
      "source": [
        "## Classificação\n",
        "\n",
        "Qual a classificação final do campeonato?\n",
        "\n",
        "Responda em forma de tabela, ordenada do primeiro colocado ao último.\n",
        "Você deverá apresentar o brasão do time (pode ser obtido online [aqui](https://logodetimes.com/premier-league/), mas automatize a busca, não salve o logo localmente), o nome, a quantidade de pontos e a posição final no campeonato.\n",
        "\n",
        "**OBS** Vitória vale 3 pontos, empates 1 ponto e derrota 0 pontos."
      ],
      "metadata": {
        "id": "JcoATpa6AJrl"
      },
      "id": "JcoATpa6AJrl"
    },
    {
      "cell_type": "code",
      "source": [
        "# Responda a etapa aqui"
      ],
      "metadata": {
        "id": "5-8n2KTnAJY1"
      },
      "id": "5-8n2KTnAJY1",
      "execution_count": null,
      "outputs": []
    },
    {
      "cell_type": "markdown",
      "source": [
        "## Público\n",
        "\n",
        "Crie uma visualização que apresente o público total de cada equipe, e também um detalhamento por jogos.\n",
        "\n",
        "Apresentar os dados usando a técnica \"DrillDown\" será considerado um \"plus\". A visualização DrillDown permite que gráficos sejam detalhados com cliques em itens do gráfico.\n",
        "\n",
        "Um exemplo com tabelas pode ser encontrado [aqui](https://dash.plotly.com/dash-ag-grid/enterprise-master-detail).\n",
        "\n",
        "Um exemplo usando gráficos pode ser encontrado [aqui](https://community.plotly.com/t/show-and-tell-drill-down-functionality-in-dash-using-callback-context/54403?u=atharvakatre)"
      ],
      "metadata": {
        "id": "rF_PpoXgEHXT"
      },
      "id": "rF_PpoXgEHXT"
    }
  ],
  "metadata": {
    "kernelspec": {
      "display_name": "Python 3 (ipykernel)",
      "language": "python",
      "name": "python3"
    },
    "language_info": {
      "codemirror_mode": {
        "name": "ipython",
        "version": 3
      },
      "file_extension": ".py",
      "mimetype": "text/x-python",
      "name": "python",
      "nbconvert_exporter": "python",
      "pygments_lexer": "ipython3",
      "version": "3.12.2"
    },
    "toc": {
      "base_numbering": 1
    },
    "colab": {
      "provenance": [],
      "include_colab_link": true
    }
  },
  "nbformat": 4,
  "nbformat_minor": 5
}